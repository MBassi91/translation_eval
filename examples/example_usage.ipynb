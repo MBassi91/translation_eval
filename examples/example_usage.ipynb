{
 "cells": [
  {
   "cell_type": "code",
   "execution_count": 1,
   "metadata": {},
   "outputs": [],
   "source": [
    "import sys\n",
    "sys.path.insert(0, '../')"
   ]
  },
  {
   "cell_type": "code",
   "execution_count": 2,
   "metadata": {},
   "outputs": [
    {
     "name": "stderr",
     "output_type": "stream",
     "text": [
      "c:\\Users\\U9173668\\python\\translation_eval\\venv\\Lib\\site-packages\\tqdm\\auto.py:21: TqdmWarning: IProgress not found. Please update jupyter and ipywidgets. See https://ipywidgets.readthedocs.io/en/stable/user_install.html\n",
      "  from .autonotebook import tqdm as notebook_tqdm\n"
     ]
    },
    {
     "name": "stdout",
     "output_type": "stream",
     "text": [
      "0.43819512537676897\n"
     ]
    },
    {
     "name": "stderr",
     "output_type": "stream",
     "text": [
      "[nltk_data] Downloading package punkt to\n",
      "[nltk_data]     C:\\Users\\U9173668\\AppData\\Roaming\\nltk_data...\n",
      "[nltk_data]   Package punkt is already up-to-date!\n"
     ]
    }
   ],
   "source": [
    "import pandas as pd\n",
    "import numpy as np\n",
    "from text_eval.similarity_eval import calculate_similarity"
   ]
  },
  {
   "cell_type": "code",
   "execution_count": 5,
   "metadata": {},
   "outputs": [
    {
     "data": {
      "text/html": [
       "<div>\n",
       "<style scoped>\n",
       "    .dataframe tbody tr th:only-of-type {\n",
       "        vertical-align: middle;\n",
       "    }\n",
       "\n",
       "    .dataframe tbody tr th {\n",
       "        vertical-align: top;\n",
       "    }\n",
       "\n",
       "    .dataframe thead th {\n",
       "        text-align: right;\n",
       "    }\n",
       "</style>\n",
       "<table border=\"1\" class=\"dataframe\">\n",
       "  <thead>\n",
       "    <tr style=\"text-align: right;\">\n",
       "      <th></th>\n",
       "      <th>original_French</th>\n",
       "      <th>translation_3_French</th>\n",
       "      <th>translation_5_French</th>\n",
       "      <th>original_German</th>\n",
       "      <th>translation_3_German</th>\n",
       "      <th>translation_5_German</th>\n",
       "    </tr>\n",
       "  </thead>\n",
       "  <tbody>\n",
       "    <tr>\n",
       "      <th>0</th>\n",
       "      <td>Bonjour le monde. Aujourd'hui est un beau jour...</td>\n",
       "      <td>Salut le monde. C'est un magnifique jour pour ...</td>\n",
       "      <td>Bonjour le monde. Aujourd'hui est un beau jour...</td>\n",
       "      <td>Hallo Welt. Heute ist ein schöner Tag, um etwa...</td>\n",
       "      <td>Hallo, Welt. Es ist ein wunderbarer Tag, um Ne...</td>\n",
       "      <td>Grüße, Welt. Dieser Tag eignet sich hervorrage...</td>\n",
       "    </tr>\n",
       "    <tr>\n",
       "      <th>1</th>\n",
       "      <td>Je t'aime. Tu es la lumière de ma vie.</td>\n",
       "      <td>Je vous aime beaucoup. Vous êtes le soleil de ...</td>\n",
       "      <td>Je t'aime. Tu es la lumière de ma vie.</td>\n",
       "      <td>Ich liebe dich. Du bist das Licht meines Lebens.</td>\n",
       "      <td>Ich hab dich lieb. Du bist die Sonne in meinem...</td>\n",
       "      <td>Ich verehre dich. Du erleuchtest mein Leben wi...</td>\n",
       "    </tr>\n",
       "    <tr>\n",
       "      <th>2</th>\n",
       "      <td>Merci beaucoup pour votre aide. Cela signifie ...</td>\n",
       "      <td>Un grand merci pour votre soutien. Cela compte...</td>\n",
       "      <td>Merci infiniment pour tout. Votre aide est ine...</td>\n",
       "      <td>Vielen Dank für Ihre Hilfe. Das bedeutet mir s...</td>\n",
       "      <td>Herzlichen Dank für Ihre Unterstützung. Das is...</td>\n",
       "      <td>Tausend Dank für alles. Ihre Hilfe ist mir uns...</td>\n",
       "    </tr>\n",
       "  </tbody>\n",
       "</table>\n",
       "</div>"
      ],
      "text/plain": [
       "                                     original_French  \\\n",
       "0  Bonjour le monde. Aujourd'hui est un beau jour...   \n",
       "1             Je t'aime. Tu es la lumière de ma vie.   \n",
       "2  Merci beaucoup pour votre aide. Cela signifie ...   \n",
       "\n",
       "                                translation_3_French  \\\n",
       "0  Salut le monde. C'est un magnifique jour pour ...   \n",
       "1  Je vous aime beaucoup. Vous êtes le soleil de ...   \n",
       "2  Un grand merci pour votre soutien. Cela compte...   \n",
       "\n",
       "                                translation_5_French  \\\n",
       "0  Bonjour le monde. Aujourd'hui est un beau jour...   \n",
       "1             Je t'aime. Tu es la lumière de ma vie.   \n",
       "2  Merci infiniment pour tout. Votre aide est ine...   \n",
       "\n",
       "                                     original_German  \\\n",
       "0  Hallo Welt. Heute ist ein schöner Tag, um etwa...   \n",
       "1   Ich liebe dich. Du bist das Licht meines Lebens.   \n",
       "2  Vielen Dank für Ihre Hilfe. Das bedeutet mir s...   \n",
       "\n",
       "                                translation_3_German  \\\n",
       "0  Hallo, Welt. Es ist ein wunderbarer Tag, um Ne...   \n",
       "1  Ich hab dich lieb. Du bist die Sonne in meinem...   \n",
       "2  Herzlichen Dank für Ihre Unterstützung. Das is...   \n",
       "\n",
       "                                translation_5_German  \n",
       "0  Grüße, Welt. Dieser Tag eignet sich hervorrage...  \n",
       "1  Ich verehre dich. Du erleuchtest mein Leben wi...  \n",
       "2  Tausend Dank für alles. Ihre Hilfe ist mir uns...  "
      ]
     },
     "execution_count": 5,
     "metadata": {},
     "output_type": "execute_result"
    }
   ],
   "source": [
    "# Load the DataFrame\n",
    "df = pd.read_csv('data/input/data_example.csv')\n",
    "df.head()"
   ]
  },
  {
   "cell_type": "code",
   "execution_count": 6,
   "metadata": {},
   "outputs": [
    {
     "name": "stderr",
     "output_type": "stream",
     "text": [
      "c:\\Users\\U9173668\\python\\translation_eval\\venv\\Lib\\site-packages\\nltk\\translate\\bleu_score.py:552: UserWarning: \n",
      "The hypothesis contains 0 counts of 4-gram overlaps.\n",
      "Therefore the BLEU score evaluates to 0, independently of\n",
      "how many N-gram overlaps of lower order it contains.\n",
      "Consider using lower n-gram order or use SmoothingFunction()\n",
      "  warnings.warn(_msg)\n",
      "c:\\Users\\U9173668\\python\\translation_eval\\venv\\Lib\\site-packages\\nltk\\translate\\bleu_score.py:552: UserWarning: \n",
      "The hypothesis contains 0 counts of 2-gram overlaps.\n",
      "Therefore the BLEU score evaluates to 0, independently of\n",
      "how many N-gram overlaps of lower order it contains.\n",
      "Consider using lower n-gram order or use SmoothingFunction()\n",
      "  warnings.warn(_msg)\n",
      "c:\\Users\\U9173668\\python\\translation_eval\\venv\\Lib\\site-packages\\nltk\\translate\\bleu_score.py:552: UserWarning: \n",
      "The hypothesis contains 0 counts of 3-gram overlaps.\n",
      "Therefore the BLEU score evaluates to 0, independently of\n",
      "how many N-gram overlaps of lower order it contains.\n",
      "Consider using lower n-gram order or use SmoothingFunction()\n",
      "  warnings.warn(_msg)\n"
     ]
    }
   ],
   "source": [
    "# Initialize containers for the results\n",
    "detailed_results = {}\n",
    "summary_results = {}\n",
    "\n",
    "# Choose the method: 'bert' or 'bleu'\n",
    "method = 'bleu'  # Or 'bert', depending on what you want to use\n",
    "\n",
    "# Process DataFrame to identify languages and calculate similarity\n",
    "languages = set(col.split('_')[-1] for col in df.columns if col.startswith('original'))\n",
    "\n",
    "for lang in languages:\n",
    "    original_col = f'original_{lang}'\n",
    "    translation_cols = [col for col in df.columns if col.endswith(lang) and col.startswith('translation')]\n",
    "    \n",
    "    for t_col in translation_cols:\n",
    "        model_number = t_col.split('_')[1]\n",
    "        detailed_key = f'Model {model_number} - {lang}'\n",
    "        summary_key = f'Model {model_number} - {lang} - Average'\n",
    "        \n",
    "        # Calculate similarities for each row\n",
    "        similarities = []\n",
    "        for index, row in df.iterrows():\n",
    "            if pd.notnull(row[t_col]) and pd.notnull(row[original_col]):\n",
    "                similarity = calculate_similarity(row[t_col], row[original_col], method=method)\n",
    "                similarities.append(similarity)\n",
    "                # Store detailed result\n",
    "                detailed_results.setdefault(detailed_key, []).append(similarity)\n",
    "                \n",
    "        # Calculate and store the average similarity\n",
    "        average_similarity = np.mean(similarities)\n",
    "        summary_results[summary_key] = average_similarity"
   ]
  },
  {
   "cell_type": "code",
   "execution_count": 7,
   "metadata": {},
   "outputs": [
    {
     "name": "stdout",
     "output_type": "stream",
     "text": [
      "Detailed Results:\n",
      "   Model 3 - French  Model 5 - French  Model 3 - German  Model 5 - German\n",
      "0      3.550619e-78      6.100034e-01      4.601359e-78     7.090820e-155\n",
      "1     1.179540e-231      1.000000e+00      3.378781e-78      3.535461e-78\n",
      "2     6.624397e-155      3.919446e-78      3.532876e-78     8.512571e-155\n",
      "\n",
      "Summary Results:\n",
      "               Model-Language  Average Similarity\n",
      "0  Model 3 - French - Average        1.183540e-78\n",
      "1  Model 5 - French - Average        5.366678e-01\n",
      "2  Model 3 - German - Average        3.837672e-78\n",
      "3  Model 5 - German - Average        1.178487e-78\n"
     ]
    }
   ],
   "source": [
    "# Convert results to DataFrames for easy saving and viewing\n",
    "detailed_results_df = pd.DataFrame.from_dict(detailed_results, orient='index').transpose()\n",
    "summary_results_df = pd.DataFrame(list(summary_results.items()), columns=['Model-Language', 'Average Similarity'])\n",
    "\n",
    "# Save the detailed and summary results to Excel files\n",
    "detailed_results_df.to_excel('data/output/detailed_similarity_results.xlsx', index=False)\n",
    "summary_results_df.to_excel('data/output/summary_similarity_results.xlsx', index=False)\n",
    "\n",
    "# Optionally, display the results\n",
    "print(\"Detailed Results:\")\n",
    "print(detailed_results_df.head())\n",
    "print(\"\\nSummary Results:\")\n",
    "print(summary_results_df)"
   ]
  },
  {
   "cell_type": "code",
   "execution_count": null,
   "metadata": {},
   "outputs": [],
   "source": []
  }
 ],
 "metadata": {
  "kernelspec": {
   "display_name": "venv",
   "language": "python",
   "name": "python3"
  },
  "language_info": {
   "codemirror_mode": {
    "name": "ipython",
    "version": 3
   },
   "file_extension": ".py",
   "mimetype": "text/x-python",
   "name": "python",
   "nbconvert_exporter": "python",
   "pygments_lexer": "ipython3",
   "version": "3.11.5"
  },
  "orig_nbformat": 4
 },
 "nbformat": 4,
 "nbformat_minor": 2
}
